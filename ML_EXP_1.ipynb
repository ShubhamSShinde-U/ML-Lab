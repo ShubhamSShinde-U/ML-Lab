{
  "nbformat": 4,
  "nbformat_minor": 0,
  "metadata": {
    "colab": {
      "name": "ML-EXP-1.ipynb",
      "provenance": [],
      "authorship_tag": "ABX9TyMgT6EagBqFIWCFH8gd0zvl",
      "include_colab_link": true
    },
    "kernelspec": {
      "name": "python3",
      "display_name": "Python 3"
    },
    "language_info": {
      "name": "python"
    }
  },
  "cells": [
    {
      "cell_type": "markdown",
      "metadata": {
        "id": "view-in-github",
        "colab_type": "text"
      },
      "source": [
        "<a href=\"https://colab.research.google.com/github/ShubhamSShinde-U/ML-Lab/blob/main/ML_EXP_1.ipynb\" target=\"_parent\"><img src=\"https://colab.research.google.com/assets/colab-badge.svg\" alt=\"Open In Colab\"/></a>"
      ]
    },
    {
      "cell_type": "code",
      "source": [
        "import pandas as pd\n",
        "import matplotlib.pyplot as plt\n",
        " \n",
        " \n",
        "# reading the database\n",
        "data = pd.read_csv(\"Student Study Hour V2.csv\")\n",
        " \n",
        "    \n",
        "# printing the rows\n",
        "print (data)\n",
        "\n",
        "# Scatter plot with hours against scores\n",
        "plt.scatter(data['Hours'], data['Scores'])\n",
        " \n",
        "# Adding Title to the Plot\n",
        "plt.title(\"Scatter Plot\")\n",
        " \n",
        "# Setting the X and Y labels\n",
        "plt.xlabel('Study Hours')\n",
        "plt.ylabel('Score')\n",
        " \n",
        "plt.show()\n",
        "\n",
        "\n",
        "X= data['Hours']\n",
        "Y= data['Scores']\n",
        "from scipy.stats import pearsonr\n",
        "stat, p = pearsonr(X, Y)\n",
        "print('stat=%.3f, p=%.3f' % (stat, p))\n",
        "if p > 0.05:\n",
        "\tprint('Accept Null Hypothesis')\n",
        "else:\n",
        "\tprint('Reject Null Hypothesis')"
      ],
      "metadata": {
        "colab": {
          "base_uri": "https://localhost:8080/",
          "height": 856
        },
        "id": "rWH2UfM6o9AW",
        "outputId": "66095807-5ab6-4d71-f987-416c21e8c8f1"
      },
      "execution_count": 1,
      "outputs": [
        {
          "output_type": "stream",
          "name": "stdout",
          "text": [
            "    Hours  Scores\n",
            "0     2.5      21\n",
            "1     5.1      47\n",
            "2     3.2      27\n",
            "3     8.5      75\n",
            "4     3.5      30\n",
            "5     1.5      20\n",
            "6     9.2      88\n",
            "7     5.5      60\n",
            "8     8.3      81\n",
            "9     2.7      25\n",
            "10    7.7      85\n",
            "11    5.9      62\n",
            "12    4.5      41\n",
            "13    3.3      42\n",
            "14    1.1      17\n",
            "15    8.9      95\n",
            "16    2.5      30\n",
            "17    1.9      24\n",
            "18    6.1      67\n",
            "19    7.4      69\n",
            "20    2.7      30\n",
            "21    4.8      54\n",
            "22    3.8      35\n",
            "23    6.9      76\n",
            "24    7.8      86\n",
            "25    1.3      19\n",
            "26    2.6      30\n",
            "27    6.1      63\n"
          ]
        },
        {
          "output_type": "display_data",
          "data": {
            "text/plain": [
              "<Figure size 432x288 with 1 Axes>"
            ],
            "image/png": "[encoded data removed]"
          },
          "metadata": {
            "needs_background": "light"
          }
        },
        {
          "output_type": "stream",
          "name": "stdout",
          "text": [
            "stat=0.978, p=0.000\n",
            "Reject Null Hypothesis\n"
          ]
        }
      ]
    }
  ]
}